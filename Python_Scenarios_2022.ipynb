{
 "cells": [
  {
   "cell_type": "markdown",
   "id": "bfa7d3de",
   "metadata": {},
   "source": [
    "# Variables"
   ]
  },
  {
   "cell_type": "code",
   "execution_count": 1,
   "id": "462d43e3",
   "metadata": {},
   "outputs": [],
   "source": [
    "x=100\n",
    "y=10"
   ]
  },
  {
   "cell_type": "code",
   "execution_count": 2,
   "id": "845d8cf7",
   "metadata": {},
   "outputs": [
    {
     "data": {
      "text/plain": [
       "1000"
      ]
     },
     "execution_count": 2,
     "metadata": {},
     "output_type": "execute_result"
    }
   ],
   "source": [
    "z = x*y\n",
    "z"
   ]
  },
  {
   "cell_type": "code",
   "execution_count": 3,
   "id": "b3e20c05",
   "metadata": {},
   "outputs": [
    {
     "data": {
      "text/plain": [
       "10.0"
      ]
     },
     "execution_count": 3,
     "metadata": {},
     "output_type": "execute_result"
    }
   ],
   "source": [
    "z1 = x/y\n",
    "z1"
   ]
  },
  {
   "cell_type": "code",
   "execution_count": 4,
   "id": "271f9714",
   "metadata": {},
   "outputs": [],
   "source": [
    "a=2000"
   ]
  },
  {
   "cell_type": "code",
   "execution_count": 5,
   "id": "9785ec2e",
   "metadata": {},
   "outputs": [
    {
     "data": {
      "text/plain": [
       "200.0"
      ]
     },
     "execution_count": 5,
     "metadata": {},
     "output_type": "execute_result"
    }
   ],
   "source": [
    "a/y"
   ]
  },
  {
   "cell_type": "code",
   "execution_count": 6,
   "id": "600dcd95",
   "metadata": {},
   "outputs": [
    {
     "data": {
      "text/plain": [
       "200.0"
      ]
     },
     "execution_count": 6,
     "metadata": {},
     "output_type": "execute_result"
    }
   ],
   "source": [
    "a=200.0\n",
    "a"
   ]
  },
  {
   "cell_type": "markdown",
   "id": "6e36f709",
   "metadata": {},
   "source": [
    "### Dynamic Typed "
   ]
  },
  {
   "cell_type": "code",
   "execution_count": 7,
   "id": "8ebfce4c",
   "metadata": {},
   "outputs": [],
   "source": [
    "x=100"
   ]
  },
  {
   "cell_type": "code",
   "execution_count": 8,
   "id": "cd26e641",
   "metadata": {},
   "outputs": [],
   "source": [
    "x=y"
   ]
  },
  {
   "cell_type": "code",
   "execution_count": 9,
   "id": "8cb82a89",
   "metadata": {},
   "outputs": [],
   "source": [
    "x = str(y)"
   ]
  },
  {
   "cell_type": "code",
   "execution_count": 10,
   "id": "260fa148",
   "metadata": {},
   "outputs": [
    {
     "data": {
      "text/plain": [
       "str"
      ]
     },
     "execution_count": 10,
     "metadata": {},
     "output_type": "execute_result"
    }
   ],
   "source": [
    "type(x)"
   ]
  },
  {
   "cell_type": "code",
   "execution_count": 11,
   "id": "fadf7fde",
   "metadata": {},
   "outputs": [],
   "source": [
    "y = int(x)"
   ]
  },
  {
   "cell_type": "code",
   "execution_count": 12,
   "id": "2cba7676",
   "metadata": {},
   "outputs": [
    {
     "data": {
      "text/plain": [
       "int"
      ]
     },
     "execution_count": 12,
     "metadata": {},
     "output_type": "execute_result"
    }
   ],
   "source": [
    "type(y)"
   ]
  },
  {
   "cell_type": "markdown",
   "id": "d44514a2",
   "metadata": {},
   "source": [
    "### Dynamic Inference Feature "
   ]
  },
  {
   "cell_type": "code",
   "execution_count": 13,
   "id": "9971448f",
   "metadata": {},
   "outputs": [],
   "source": [
    "var = [1,2,3]"
   ]
  },
  {
   "cell_type": "code",
   "execution_count": 14,
   "id": "2df582a7",
   "metadata": {},
   "outputs": [
    {
     "data": {
      "text/plain": [
       "list"
      ]
     },
     "execution_count": 14,
     "metadata": {},
     "output_type": "execute_result"
    }
   ],
   "source": [
    "type(var)"
   ]
  },
  {
   "cell_type": "code",
   "execution_count": 15,
   "id": "4106ab5e",
   "metadata": {},
   "outputs": [],
   "source": [
    "var = \"inceptez technologies\""
   ]
  },
  {
   "cell_type": "code",
   "execution_count": 16,
   "id": "7b6bc258",
   "metadata": {},
   "outputs": [
    {
     "data": {
      "text/plain": [
       "str"
      ]
     },
     "execution_count": 16,
     "metadata": {},
     "output_type": "execute_result"
    }
   ],
   "source": [
    "type(var)"
   ]
  },
  {
   "cell_type": "markdown",
   "id": "4a29c229",
   "metadata": {},
   "source": [
    "### Strongly Typed"
   ]
  },
  {
   "cell_type": "code",
   "execution_count": 17,
   "id": "491c48a5",
   "metadata": {},
   "outputs": [],
   "source": [
    "var1 = 100"
   ]
  },
  {
   "cell_type": "code",
   "execution_count": 18,
   "id": "d2bd2689",
   "metadata": {},
   "outputs": [],
   "source": [
    "var2 = 'venkat'"
   ]
  },
  {
   "cell_type": "code",
   "execution_count": 19,
   "id": "4c3af1fc",
   "metadata": {},
   "outputs": [
    {
     "ename": "TypeError",
     "evalue": "unsupported operand type(s) for +: 'int' and 'str'",
     "output_type": "error",
     "traceback": [
      "\u001b[1;31m---------------------------------------------------------------------------\u001b[0m",
      "\u001b[1;31mTypeError\u001b[0m                                 Traceback (most recent call last)",
      "\u001b[1;32m<ipython-input-19-bb6b5f9fce4a>\u001b[0m in \u001b[0;36m<module>\u001b[1;34m\u001b[0m\n\u001b[1;32m----> 1\u001b[1;33m \u001b[0mvar1\u001b[0m \u001b[1;33m+\u001b[0m \u001b[0mvar2\u001b[0m\u001b[1;33m\u001b[0m\u001b[1;33m\u001b[0m\u001b[0m\n\u001b[0m",
      "\u001b[1;31mTypeError\u001b[0m: unsupported operand type(s) for +: 'int' and 'str'"
     ]
    }
   ],
   "source": [
    "var1 + var2"
   ]
  },
  {
   "cell_type": "code",
   "execution_count": 20,
   "id": "c28c95a5",
   "metadata": {},
   "outputs": [
    {
     "data": {
      "text/plain": [
       "'100'"
      ]
     },
     "execution_count": 20,
     "metadata": {},
     "output_type": "execute_result"
    }
   ],
   "source": [
    "str(var1)"
   ]
  },
  {
   "cell_type": "code",
   "execution_count": 21,
   "id": "966a19f5",
   "metadata": {},
   "outputs": [
    {
     "data": {
      "text/plain": [
       "'100venkat'"
      ]
     },
     "execution_count": 21,
     "metadata": {},
     "output_type": "execute_result"
    }
   ],
   "source": [
    "str(var1)+var2"
   ]
  },
  {
   "cell_type": "code",
   "execution_count": 22,
   "id": "80828814",
   "metadata": {},
   "outputs": [],
   "source": [
    "a=10"
   ]
  },
  {
   "cell_type": "code",
   "execution_count": 23,
   "id": "1ac4a634",
   "metadata": {},
   "outputs": [],
   "source": [
    "b=20"
   ]
  },
  {
   "cell_type": "code",
   "execution_count": 24,
   "id": "5a953154",
   "metadata": {},
   "outputs": [],
   "source": [
    "c=30"
   ]
  },
  {
   "cell_type": "code",
   "execution_count": 25,
   "id": "61ab26ec",
   "metadata": {},
   "outputs": [],
   "source": [
    "d=40"
   ]
  },
  {
   "cell_type": "markdown",
   "id": "3fc4dfde",
   "metadata": {},
   "source": [
    "### Case-Sensitive Language "
   ]
  },
  {
   "cell_type": "code",
   "execution_count": 26,
   "id": "99555091",
   "metadata": {},
   "outputs": [
    {
     "ename": "NameError",
     "evalue": "name 'User_name' is not defined",
     "output_type": "error",
     "traceback": [
      "\u001b[1;31m---------------------------------------------------------------------------\u001b[0m",
      "\u001b[1;31mNameError\u001b[0m                                 Traceback (most recent call last)",
      "\u001b[1;32m<ipython-input-26-1d9d600dafc7>\u001b[0m in \u001b[0;36m<module>\u001b[1;34m\u001b[0m\n\u001b[0;32m      1\u001b[0m \u001b[0muser_name\u001b[0m \u001b[1;33m=\u001b[0m \u001b[1;34m'User1'\u001b[0m\u001b[1;33m\u001b[0m\u001b[1;33m\u001b[0m\u001b[0m\n\u001b[1;32m----> 2\u001b[1;33m \u001b[0mprint\u001b[0m\u001b[1;33m(\u001b[0m\u001b[0mUser_name\u001b[0m\u001b[1;33m)\u001b[0m\u001b[1;33m\u001b[0m\u001b[1;33m\u001b[0m\u001b[0m\n\u001b[0m",
      "\u001b[1;31mNameError\u001b[0m: name 'User_name' is not defined"
     ]
    }
   ],
   "source": [
    "user_name = 'User1'\n",
    "print(User_name)"
   ]
  },
  {
   "cell_type": "markdown",
   "id": "f7ba5535",
   "metadata": {},
   "source": [
    "### variable name can’t start with numbers and special characters"
   ]
  },
  {
   "cell_type": "code",
   "execution_count": 27,
   "id": "4602498f",
   "metadata": {},
   "outputs": [
    {
     "ename": "SyntaxError",
     "evalue": "invalid syntax (<ipython-input-27-94c0d2a8b0ca>, line 1)",
     "output_type": "error",
     "traceback": [
      "\u001b[1;36m  File \u001b[1;32m\"<ipython-input-27-94c0d2a8b0ca>\"\u001b[1;36m, line \u001b[1;32m1\u001b[0m\n\u001b[1;33m    2myvar = \"venkat inceptez\"\u001b[0m\n\u001b[1;37m     ^\u001b[0m\n\u001b[1;31mSyntaxError\u001b[0m\u001b[1;31m:\u001b[0m invalid syntax\n"
     ]
    }
   ],
   "source": [
    "2myvar = \"venkat inceptez\""
   ]
  },
  {
   "cell_type": "code",
   "execution_count": 29,
   "id": "e320d4dc",
   "metadata": {},
   "outputs": [],
   "source": [
    "_myvar = \"venkat data science\"  # Only _ Accepted at the start of variable"
   ]
  },
  {
   "cell_type": "code",
   "execution_count": 30,
   "id": "2aecb3a2",
   "metadata": {},
   "outputs": [
    {
     "ename": "SyntaxError",
     "evalue": "invalid syntax (<ipython-input-30-5ae4059f9323>, line 1)",
     "output_type": "error",
     "traceback": [
      "\u001b[1;36m  File \u001b[1;32m\"<ipython-input-30-5ae4059f9323>\"\u001b[1;36m, line \u001b[1;32m1\u001b[0m\n\u001b[1;33m    $_myvar = \"venkat data science\"\u001b[0m\n\u001b[1;37m    ^\u001b[0m\n\u001b[1;31mSyntaxError\u001b[0m\u001b[1;31m:\u001b[0m invalid syntax\n"
     ]
    }
   ],
   "source": [
    "$_myvar = \"venkat data science\""
   ]
  },
  {
   "cell_type": "code",
   "execution_count": 31,
   "id": "ee1bdf3b",
   "metadata": {},
   "outputs": [
    {
     "ename": "SyntaxError",
     "evalue": "invalid syntax (<ipython-input-31-fa05a7c5c431>, line 1)",
     "output_type": "error",
     "traceback": [
      "\u001b[1;36m  File \u001b[1;32m\"<ipython-input-31-fa05a7c5c431>\"\u001b[1;36m, line \u001b[1;32m1\u001b[0m\n\u001b[1;33m    &_myvar = \"venkat data science\"\u001b[0m\n\u001b[1;37m    ^\u001b[0m\n\u001b[1;31mSyntaxError\u001b[0m\u001b[1;31m:\u001b[0m invalid syntax\n"
     ]
    }
   ],
   "source": [
    "&_myvar = \"venkat data science\""
   ]
  },
  {
   "cell_type": "markdown",
   "id": "0989573e",
   "metadata": {},
   "source": [
    "### Single,Double and Triple Quotes"
   ]
  },
  {
   "cell_type": "code",
   "execution_count": null,
   "id": "45212eb1",
   "metadata": {},
   "outputs": [],
   "source": [
    "name = 'Inceptez!'\n",
    "print (name)\n",
    "print (type(name))"
   ]
  },
  {
   "cell_type": "code",
   "execution_count": null,
   "id": "f0a339bf",
   "metadata": {},
   "outputs": [],
   "source": [
    "len(name)"
   ]
  },
  {
   "cell_type": "code",
   "execution_count": 32,
   "id": "fee144ea",
   "metadata": {},
   "outputs": [
    {
     "name": "stdout",
     "output_type": "stream",
     "text": [
      "Inceptez\n",
      "<class 'str'>\n"
     ]
    }
   ],
   "source": [
    "name = \"Inceptez\"\n",
    "print (name)\n",
    "print (type(name))"
   ]
  },
  {
   "cell_type": "code",
   "execution_count": 33,
   "id": "9629969f",
   "metadata": {},
   "outputs": [
    {
     "data": {
      "text/plain": [
       "8"
      ]
     },
     "execution_count": 33,
     "metadata": {},
     "output_type": "execute_result"
    }
   ],
   "source": [
    "len(name)"
   ]
  },
  {
   "cell_type": "code",
   "execution_count": 34,
   "id": "5d5d405b",
   "metadata": {},
   "outputs": [
    {
     "name": "stdout",
     "output_type": "stream",
     "text": [
      "Inceptez!\n",
      "<class 'str'>\n"
     ]
    }
   ],
   "source": [
    "name = '''Inceptez!'''\n",
    "print (name)\n",
    "print (type(name))"
   ]
  },
  {
   "cell_type": "code",
   "execution_count": 35,
   "id": "80ae353a",
   "metadata": {},
   "outputs": [
    {
     "data": {
      "text/plain": [
       "9"
      ]
     },
     "execution_count": 35,
     "metadata": {},
     "output_type": "execute_result"
    }
   ],
   "source": [
    "len(name)"
   ]
  },
  {
   "cell_type": "code",
   "execution_count": 36,
   "id": "22013242",
   "metadata": {},
   "outputs": [
    {
     "name": "stdout",
     "output_type": "stream",
     "text": [
      "'Inceptez@#'''&^%''\n",
      "<class 'str'>\n"
     ]
    }
   ],
   "source": [
    "name = \"'Inceptez@#'''&^%''\"\n",
    "print (name)\n",
    "print (type(name))"
   ]
  },
  {
   "cell_type": "code",
   "execution_count": 37,
   "id": "228c56b6",
   "metadata": {},
   "outputs": [
    {
     "data": {
      "text/plain": [
       "19"
      ]
     },
     "execution_count": 37,
     "metadata": {},
     "output_type": "execute_result"
    }
   ],
   "source": [
    "len(name)"
   ]
  },
  {
   "cell_type": "code",
   "execution_count": 38,
   "id": "8c0ec458",
   "metadata": {},
   "outputs": [
    {
     "name": "stdout",
     "output_type": "stream",
     "text": [
      "'Inceptez!'\n",
      "<class 'str'>\n"
     ]
    }
   ],
   "source": [
    "name = \"'Inceptez!'\"\n",
    "print (name)\n",
    "print (type(name))"
   ]
  },
  {
   "cell_type": "code",
   "execution_count": 39,
   "id": "eed937f5",
   "metadata": {},
   "outputs": [
    {
     "data": {
      "text/plain": [
       "11"
      ]
     },
     "execution_count": 39,
     "metadata": {},
     "output_type": "execute_result"
    }
   ],
   "source": [
    "len(name)"
   ]
  },
  {
   "cell_type": "code",
   "execution_count": 40,
   "id": "c8675f56",
   "metadata": {},
   "outputs": [
    {
     "name": "stdout",
     "output_type": "stream",
     "text": [
      "Inceptez          \n",
      "Technologies \n",
      "is the best training center\n",
      "for data science and big data analytics in chennai region\n",
      "<class 'str'>\n"
     ]
    }
   ],
   "source": [
    "### MULTI-LINE\n",
    "\n",
    "name = '''Inceptez          \n",
    "Technologies \n",
    "is the best training center\n",
    "for data science and big data analytics in chennai region'''\n",
    "print (name)\n",
    "print (type(name))"
   ]
  },
  {
   "cell_type": "markdown",
   "id": "8e98b0be",
   "metadata": {},
   "source": []
  },
  {
   "cell_type": "code",
   "execution_count": 41,
   "id": "4837ff74",
   "metadata": {},
   "outputs": [
    {
     "name": "stdout",
     "output_type": "stream",
     "text": [
      "x + y = 25\n",
      "x - y = 17\n",
      "x * y = 84\n",
      "x / y = 5.25\n",
      "x // y = 5\n",
      "x ** y = 194481\n",
      "x > y is True\n",
      "x < y is False\n",
      "x == y is False\n",
      "x != y is True\n",
      "x >= y is True\n",
      "x <= y is False\n"
     ]
    }
   ],
   "source": [
    "x = 21\n",
    "y = 4\n",
    "print('x + y =',x+y)   ### Arithmetic\n",
    "\n",
    "print('x - y =',x-y)\n",
    "\n",
    "\n",
    "print('x * y =',x*y)\n",
    "\n",
    "\n",
    "print('x / y =',x/y)\n",
    "\n",
    "\n",
    "print('x // y =',x//y)\n",
    "\n",
    "\n",
    "print('x ** y =',x**y)\n",
    "\n",
    "\n",
    "print('x > y is',x>y)\n",
    "\n",
    "\n",
    "print('x < y is',x<y)\n",
    "\n",
    "\n",
    "print('x == y is',x==y)  ## Comparison also referred as Relational\n",
    "\n",
    "\n",
    "print('x != y is',x!=y)\n",
    "\n",
    "\n",
    "print('x >= y is',x>=y)\n",
    "\n",
    "\n",
    "print('x <= y is',x<=y)"
   ]
  },
  {
   "cell_type": "code",
   "execution_count": 42,
   "id": "be750971",
   "metadata": {},
   "outputs": [
    {
     "name": "stdout",
     "output_type": "stream",
     "text": [
      "x % y = 1\n"
     ]
    }
   ],
   "source": [
    "print('x % y =',x%y)"
   ]
  },
  {
   "cell_type": "code",
   "execution_count": 43,
   "id": "94e06091",
   "metadata": {},
   "outputs": [
    {
     "name": "stdout",
     "output_type": "stream",
     "text": [
      "x and y is False\n",
      "x or y is True\n",
      "not x is False\n"
     ]
    }
   ],
   "source": [
    "x = True\n",
    "y = False\n",
    "\n",
    "print('x and y is',x and y)   # Logical\n",
    "\n",
    "print('x or y is',x or y)\n",
    "\n",
    "print('not x is',not x)"
   ]
  },
  {
   "cell_type": "markdown",
   "id": "2ee37d40",
   "metadata": {},
   "source": [
    "# Conditional Structures"
   ]
  },
  {
   "cell_type": "markdown",
   "id": "5b3db2bc",
   "metadata": {},
   "source": [
    "### Greatest of 3 Numbers"
   ]
  },
  {
   "cell_type": "code",
   "execution_count": 44,
   "id": "4f492e69",
   "metadata": {},
   "outputs": [],
   "source": [
    "x1 = 12545855554445\n",
    "x2 = 1251258888121245888\n",
    "x3 = 125147444414787999"
   ]
  },
  {
   "cell_type": "code",
   "execution_count": 45,
   "id": "04c8c3a3",
   "metadata": {},
   "outputs": [
    {
     "name": "stdout",
     "output_type": "stream",
     "text": [
      "The largest number is 1251258888121245888\n"
     ]
    }
   ],
   "source": [
    "if (x1 >= x2) and (x1 >= x3):    # comparison\n",
    "    largest = x1\n",
    "elif (x2 >= x1) and (x2 >= x3):\n",
    "    largest = x2\n",
    "else:\n",
    "    largest = x3\n",
    "\n",
    "print(\"The largest number is\", largest)"
   ]
  },
  {
   "cell_type": "markdown",
   "id": "5e3272a9",
   "metadata": {},
   "source": [
    "# String - Palindrome or Not "
   ]
  },
  {
   "cell_type": "code",
   "execution_count": 46,
   "id": "e20ea149",
   "metadata": {},
   "outputs": [
    {
     "name": "stdout",
     "output_type": "stream",
     "text": [
      "Please enter your own String : madam\n",
      "This is a Palindrome String\n"
     ]
    }
   ],
   "source": [
    "string = input(\"Please enter your own String : \")\n",
    "\n",
    "if(string == string[::-1]):\n",
    "    print(\"This is a Palindrome String\")\n",
    "else:\n",
    "    print(\"This is Not a Palindrome String\")"
   ]
  },
  {
   "cell_type": "markdown",
   "id": "311d306d",
   "metadata": {},
   "source": [
    "# Number - Palindrome or Not "
   ]
  },
  {
   "cell_type": "code",
   "execution_count": 47,
   "id": "f70acd81",
   "metadata": {},
   "outputs": [
    {
     "name": "stdout",
     "output_type": "stream",
     "text": [
      "Please enter your own number : 80008\n",
      "This is a Palindrome number\n"
     ]
    }
   ],
   "source": [
    "number = input(\"Please enter your own number : \")\n",
    "\n",
    "if(number == number[::-1]):\n",
    "    print(\"This is a Palindrome number\")\n",
    "else:\n",
    "    print(\"This is Not a Palindrome number\")"
   ]
  },
  {
   "cell_type": "markdown",
   "id": "45d745b7",
   "metadata": {},
   "source": [
    "# Even or Negative"
   ]
  },
  {
   "cell_type": "code",
   "execution_count": 349,
   "id": "9efbc85a",
   "metadata": {},
   "outputs": [
    {
     "name": "stdout",
     "output_type": "stream",
     "text": [
      "Enter a number: -10\n",
      "negative number\n"
     ]
    }
   ],
   "source": [
    "num = float(input(\"Enter a number: \"))\n",
    "if num < 0:\n",
    "    print(\"negative number\")\n",
    "elif num % 2 == 1:\n",
    "    print(\"odd number\")\n",
    "elif num % 2 == 0:\n",
    "    print(\"even number\")"
   ]
  },
  {
   "cell_type": "code",
   "execution_count": 49,
   "id": "c8c010e4",
   "metadata": {},
   "outputs": [
    {
     "name": "stdout",
     "output_type": "stream",
     "text": [
      "Please enter your own text: deep learning\n",
      "fees is 45000\n",
      "Good bye!\n"
     ]
    }
   ],
   "source": [
    "student = input(\"Please enter your own text: \")\n",
    "\n",
    "if student == \"big data\":\n",
    "    print (\"fees is 25000\")\n",
    "elif student == \"spark\":\n",
    "    print (\"fees is 15000\")\n",
    "elif student == \"data science\" and \"machine learning\":\n",
    "    print (\"fees is 25000\")\n",
    "elif student == \"deep learning\":\n",
    "    print (\"fees is 45000\")\n",
    "elif student == \"deep learning\" and \"machine learning\":\n",
    "    print (\"fees is 50000\")\n",
    "\n",
    "print (\"Good bye!\")"
   ]
  },
  {
   "cell_type": "code",
   "execution_count": 50,
   "id": "15d79645",
   "metadata": {},
   "outputs": [
    {
     "data": {
      "text/plain": [
       "True"
      ]
     },
     "execution_count": 50,
     "metadata": {},
     "output_type": "execute_result"
    }
   ],
   "source": [
    "x = isinstance(100, int)  # checked. It is an integer\n",
    "x"
   ]
  },
  {
   "cell_type": "markdown",
   "id": "3056b75f",
   "metadata": {},
   "source": [
    "# Collections"
   ]
  },
  {
   "cell_type": "code",
   "execution_count": 51,
   "id": "5357fdd3",
   "metadata": {},
   "outputs": [],
   "source": [
    "lst = [2,3,4,5,6,7,8,9,10,11]"
   ]
  },
  {
   "cell_type": "code",
   "execution_count": 52,
   "id": "e313a072",
   "metadata": {},
   "outputs": [],
   "source": [
    "lst[2]=100"
   ]
  },
  {
   "cell_type": "code",
   "execution_count": 53,
   "id": "47a5a7f7",
   "metadata": {},
   "outputs": [
    {
     "data": {
      "text/plain": [
       "[2, 3, 100, 5, 6, 7, 8, 9, 10, 11]"
      ]
     },
     "execution_count": 53,
     "metadata": {},
     "output_type": "execute_result"
    }
   ],
   "source": [
    "lst  #mutable"
   ]
  },
  {
   "cell_type": "code",
   "execution_count": 54,
   "id": "ec082470",
   "metadata": {},
   "outputs": [],
   "source": [
    "lst.insert(4,100) # Resizable"
   ]
  },
  {
   "cell_type": "code",
   "execution_count": 55,
   "id": "329b5920",
   "metadata": {},
   "outputs": [
    {
     "data": {
      "text/plain": [
       "[2, 3, 100, 5, 100, 6, 7, 8, 9, 10, 11]"
      ]
     },
     "execution_count": 55,
     "metadata": {},
     "output_type": "execute_result"
    }
   ],
   "source": [
    "lst"
   ]
  },
  {
   "cell_type": "code",
   "execution_count": 56,
   "id": "d3a7f969",
   "metadata": {},
   "outputs": [],
   "source": [
    "var4 = (\"Inceptez\",\"Technologies\",\"Pvt\",\"Ltd\")"
   ]
  },
  {
   "cell_type": "code",
   "execution_count": 57,
   "id": "942bb892",
   "metadata": {},
   "outputs": [
    {
     "ename": "TypeError",
     "evalue": "'tuple' object does not support item assignment",
     "output_type": "error",
     "traceback": [
      "\u001b[1;31m---------------------------------------------------------------------------\u001b[0m",
      "\u001b[1;31mTypeError\u001b[0m                                 Traceback (most recent call last)",
      "\u001b[1;32m<ipython-input-57-3ae9d7f9c662>\u001b[0m in \u001b[0;36m<module>\u001b[1;34m\u001b[0m\n\u001b[1;32m----> 1\u001b[1;33m \u001b[0mvar4\u001b[0m\u001b[1;33m[\u001b[0m\u001b[1;36m1\u001b[0m\u001b[1;33m]\u001b[0m \u001b[1;33m=\u001b[0m \u001b[1;34m\"Wipro\"\u001b[0m  \u001b[1;31m# Immutable\u001b[0m\u001b[1;33m\u001b[0m\u001b[1;33m\u001b[0m\u001b[0m\n\u001b[0m",
      "\u001b[1;31mTypeError\u001b[0m: 'tuple' object does not support item assignment"
     ]
    }
   ],
   "source": [
    "var4[1] = \"Wipro\"  # Immutable"
   ]
  },
  {
   "cell_type": "code",
   "execution_count": 58,
   "id": "4c0f38b5",
   "metadata": {},
   "outputs": [
    {
     "ename": "AttributeError",
     "evalue": "'tuple' object has no attribute 'insert'",
     "output_type": "error",
     "traceback": [
      "\u001b[1;31m---------------------------------------------------------------------------\u001b[0m",
      "\u001b[1;31mAttributeError\u001b[0m                            Traceback (most recent call last)",
      "\u001b[1;32m<ipython-input-58-b1f71501dd9f>\u001b[0m in \u001b[0;36m<module>\u001b[1;34m\u001b[0m\n\u001b[1;32m----> 1\u001b[1;33m \u001b[0mvar4\u001b[0m\u001b[1;33m.\u001b[0m\u001b[0minsert\u001b[0m\u001b[1;33m(\u001b[0m\u001b[1;36m2\u001b[0m\u001b[1;33m,\u001b[0m\u001b[1;34m\"CTS\"\u001b[0m\u001b[1;33m)\u001b[0m  \u001b[1;31m# Non Resizable\u001b[0m\u001b[1;33m\u001b[0m\u001b[1;33m\u001b[0m\u001b[0m\n\u001b[0m",
      "\u001b[1;31mAttributeError\u001b[0m: 'tuple' object has no attribute 'insert'"
     ]
    }
   ],
   "source": [
    "var4.insert(2,\"CTS\")  # Non Resizable"
   ]
  },
  {
   "cell_type": "code",
   "execution_count": 132,
   "id": "0fe7a64c",
   "metadata": {},
   "outputs": [
    {
     "name": "stdout",
     "output_type": "stream",
     "text": [
      "Ltd\n"
     ]
    }
   ],
   "source": [
    "print(var4[-1])"
   ]
  },
  {
   "cell_type": "code",
   "execution_count": 133,
   "id": "1da55b0b",
   "metadata": {},
   "outputs": [
    {
     "name": "stdout",
     "output_type": "stream",
     "text": [
      "Technologies\n"
     ]
    }
   ],
   "source": [
    "print(var4[-3])"
   ]
  },
  {
   "cell_type": "code",
   "execution_count": 134,
   "id": "e851a271",
   "metadata": {},
   "outputs": [
    {
     "data": {
      "text/plain": [
       "('Ltd', 'Technologies')"
      ]
     },
     "execution_count": 134,
     "metadata": {},
     "output_type": "execute_result"
    }
   ],
   "source": [
    "inceptez1 = (\"Ltd\",\"Technologies\")  # stored inside another tuple\n",
    "inceptez1"
   ]
  },
  {
   "cell_type": "markdown",
   "id": "8b3ec418",
   "metadata": {},
   "source": [
    "# List of Tuples to List of Dictionary"
   ]
  },
  {
   "cell_type": "code",
   "execution_count": 135,
   "id": "8bbcbf48",
   "metadata": {},
   "outputs": [],
   "source": [
    "tuples = [(\"Inceptez\",\"Technologies\"),(\"Apple\",\"Incorporation\")]"
   ]
  },
  {
   "cell_type": "code",
   "execution_count": 136,
   "id": "37e64a17",
   "metadata": {},
   "outputs": [],
   "source": [
    "dict = [{i[0] : i[1]} for i in tuples]"
   ]
  },
  {
   "cell_type": "code",
   "execution_count": 137,
   "id": "518555a7",
   "metadata": {},
   "outputs": [
    {
     "data": {
      "text/plain": [
       "[{'Inceptez': 'Technologies'}, {'Apple': 'Incorporation'}]"
      ]
     },
     "execution_count": 137,
     "metadata": {},
     "output_type": "execute_result"
    }
   ],
   "source": [
    "dict"
   ]
  },
  {
   "cell_type": "code",
   "execution_count": 138,
   "id": "c823f628",
   "metadata": {},
   "outputs": [
    {
     "data": {
      "text/plain": [
       "'Incorporation'"
      ]
     },
     "execution_count": 138,
     "metadata": {},
     "output_type": "execute_result"
    }
   ],
   "source": [
    "dict[1]['Apple']"
   ]
  },
  {
   "cell_type": "code",
   "execution_count": 139,
   "id": "6a0d156f",
   "metadata": {},
   "outputs": [
    {
     "ename": "AttributeError",
     "evalue": "'list' object has no attribute 'get'",
     "output_type": "error",
     "traceback": [
      "\u001b[1;31m---------------------------------------------------------------------------\u001b[0m",
      "\u001b[1;31mAttributeError\u001b[0m                            Traceback (most recent call last)",
      "\u001b[1;32m<ipython-input-139-f6cf44478524>\u001b[0m in \u001b[0;36m<module>\u001b[1;34m\u001b[0m\n\u001b[1;32m----> 1\u001b[1;33m \u001b[0mdict\u001b[0m\u001b[1;33m.\u001b[0m\u001b[0mget\u001b[0m\u001b[1;33m(\u001b[0m\u001b[1;34m\"Apple\"\u001b[0m\u001b[1;33m)\u001b[0m\u001b[1;33m\u001b[0m\u001b[1;33m\u001b[0m\u001b[0m\n\u001b[0m",
      "\u001b[1;31mAttributeError\u001b[0m: 'list' object has no attribute 'get'"
     ]
    }
   ],
   "source": [
    "dict.get(\"Apple\")"
   ]
  },
  {
   "cell_type": "markdown",
   "id": "9515c050",
   "metadata": {},
   "source": [
    "Observation: get() is used and it doesn't return value because \"dict\" variable present here is list of dictionary"
   ]
  },
  {
   "cell_type": "code",
   "execution_count": 59,
   "id": "fcdd25a4",
   "metadata": {},
   "outputs": [],
   "source": [
    "tuples_1 = [(\"Inceptez\",\"Technologies\"),(\"Apple1\",\"Incorporation\")]"
   ]
  },
  {
   "cell_type": "code",
   "execution_count": 60,
   "id": "b8c31c2c",
   "metadata": {},
   "outputs": [],
   "source": [
    "dict = [{i[0] : i[1]} for i in tuples_1]"
   ]
  },
  {
   "cell_type": "code",
   "execution_count": 61,
   "id": "5bde7471",
   "metadata": {},
   "outputs": [
    {
     "ename": "AttributeError",
     "evalue": "'list' object has no attribute 'get'",
     "output_type": "error",
     "traceback": [
      "\u001b[1;31m---------------------------------------------------------------------------\u001b[0m",
      "\u001b[1;31mAttributeError\u001b[0m                            Traceback (most recent call last)",
      "\u001b[1;32m<ipython-input-61-dff152d909af>\u001b[0m in \u001b[0;36m<module>\u001b[1;34m\u001b[0m\n\u001b[1;32m----> 1\u001b[1;33m \u001b[0mtuples_1\u001b[0m\u001b[1;33m.\u001b[0m\u001b[0mget\u001b[0m\u001b[1;33m(\u001b[0m\u001b[1;34m\"Apple1\"\u001b[0m\u001b[1;33m)\u001b[0m\u001b[1;33m\u001b[0m\u001b[1;33m\u001b[0m\u001b[0m\n\u001b[0m",
      "\u001b[1;31mAttributeError\u001b[0m: 'list' object has no attribute 'get'"
     ]
    }
   ],
   "source": [
    "tuples_1.get(\"Apple1\")"
   ]
  },
  {
   "cell_type": "code",
   "execution_count": null,
   "id": "76981537",
   "metadata": {},
   "outputs": [],
   "source": []
  },
  {
   "cell_type": "code",
   "execution_count": null,
   "id": "d03b3a39",
   "metadata": {},
   "outputs": [],
   "source": []
  },
  {
   "cell_type": "code",
   "execution_count": 62,
   "id": "deaef488",
   "metadata": {},
   "outputs": [],
   "source": [
    "lst2=[(\"Inceptez\",\"Technologies\"),(\"Apple\",\"Incorporation\"),(\"Inceptez\",\"Technologies\"),(\"Inceptez\",\"Technologies\")]"
   ]
  },
  {
   "cell_type": "code",
   "execution_count": 63,
   "id": "87f57076",
   "metadata": {},
   "outputs": [
    {
     "data": {
      "text/plain": [
       "[('Inceptez', 'Technologies'), ('Apple', 'Incorporation')]"
      ]
     },
     "execution_count": 63,
     "metadata": {},
     "output_type": "execute_result"
    }
   ],
   "source": [
    "de_duplicated = list(set(lst2))\n",
    "de_duplicated"
   ]
  },
  {
   "cell_type": "markdown",
   "id": "2a18a9e2",
   "metadata": {},
   "source": [
    "Convertion ---> List of Tuple to Set will remove all the duplicates "
   ]
  },
  {
   "cell_type": "code",
   "execution_count": 64,
   "id": "33009484",
   "metadata": {},
   "outputs": [],
   "source": [
    "de_duplicated.append([\"Intel\",\"Corp\"])"
   ]
  },
  {
   "cell_type": "markdown",
   "id": "ec44efd9",
   "metadata": {},
   "source": [
    "Observation: Only with list - \"Append\" comes.  NOT if you execute set(lst2)"
   ]
  },
  {
   "cell_type": "code",
   "execution_count": 65,
   "id": "98c7fa61",
   "metadata": {},
   "outputs": [
    {
     "data": {
      "text/plain": [
       "[('Inceptez', 'Technologies'), ('Apple', 'Incorporation'), ['Intel', 'Corp']]"
      ]
     },
     "execution_count": 65,
     "metadata": {},
     "output_type": "execute_result"
    }
   ],
   "source": [
    "de_duplicated"
   ]
  },
  {
   "cell_type": "markdown",
   "id": "047caba6",
   "metadata": {},
   "source": []
  },
  {
   "cell_type": "code",
   "execution_count": 80,
   "id": "354f0d88",
   "metadata": {},
   "outputs": [],
   "source": [
    "lst_dict= [{\"Inceptez\":\"Technologies\"},{\"Apple\":\"Incorporation\"}] "
   ]
  },
  {
   "cell_type": "code",
   "execution_count": 81,
   "id": "68c566cd",
   "metadata": {},
   "outputs": [
    {
     "data": {
      "text/plain": [
       "['Inceptez', 'Apple']"
      ]
     },
     "execution_count": 81,
     "metadata": {},
     "output_type": "execute_result"
    }
   ],
   "source": [
    "lst_1 = [i for s in [d.keys() for d in lst_dict] for i in s]\n",
    "lst_1"
   ]
  },
  {
   "cell_type": "markdown",
   "id": "70ce3e85",
   "metadata": {},
   "source": []
  },
  {
   "cell_type": "code",
   "execution_count": 111,
   "id": "051c3071",
   "metadata": {},
   "outputs": [],
   "source": [
    "lst_4 = [10,20,40,30,20]"
   ]
  },
  {
   "cell_type": "code",
   "execution_count": 112,
   "id": "3bbc94bc",
   "metadata": {},
   "outputs": [
    {
     "ename": "TypeError",
     "evalue": "can only concatenate str (not \"list\") to str",
     "output_type": "error",
     "traceback": [
      "\u001b[1;31m---------------------------------------------------------------------------\u001b[0m",
      "\u001b[1;31mTypeError\u001b[0m                                 Traceback (most recent call last)",
      "\u001b[1;32m<ipython-input-112-6579f006c423>\u001b[0m in \u001b[0;36m<module>\u001b[1;34m\u001b[0m\n\u001b[0;32m      1\u001b[0m \u001b[0msol\u001b[0m \u001b[1;33m=\u001b[0m \u001b[1;33m[\u001b[0m\u001b[0mlst_4\u001b[0m\u001b[1;33m[\u001b[0m\u001b[1;36m0\u001b[0m\u001b[1;33m]\u001b[0m\u001b[1;33m,\u001b[0m\u001b[0mlst_4\u001b[0m\u001b[1;33m[\u001b[0m\u001b[1;33m-\u001b[0m\u001b[1;36m1\u001b[0m\u001b[1;33m]\u001b[0m\u001b[1;33m]\u001b[0m\u001b[1;33m\u001b[0m\u001b[1;33m\u001b[0m\u001b[0m\n\u001b[1;32m----> 2\u001b[1;33m \u001b[0mprint\u001b[0m\u001b[1;33m(\u001b[0m\u001b[1;34m\"The first and last element in the list are: \"\u001b[0m \u001b[1;33m+\u001b[0m \u001b[0msol\u001b[0m\u001b[1;33m)\u001b[0m\u001b[1;33m\u001b[0m\u001b[1;33m\u001b[0m\u001b[0m\n\u001b[0m",
      "\u001b[1;31mTypeError\u001b[0m: can only concatenate str (not \"list\") to str"
     ]
    }
   ],
   "source": [
    "sol = [lst_4[0],lst_4[-1]]\n",
    "print(\"The first and last element in the list are: \" + sol)"
   ]
  },
  {
   "cell_type": "code",
   "execution_count": 113,
   "id": "21120174",
   "metadata": {},
   "outputs": [
    {
     "name": "stdout",
     "output_type": "stream",
     "text": [
      "The first and last element in the list are: [10, 20]\n"
     ]
    }
   ],
   "source": [
    "sol = [lst_4[0],lst_4[-1]]\n",
    "print(\"The first and last element in the list are: \" + str(sol))"
   ]
  },
  {
   "cell_type": "markdown",
   "id": "e79ec782",
   "metadata": {},
   "source": [
    "Therefore, it is observed that str is accepted in concat and NOT LIST. So, we put  str(sol)"
   ]
  },
  {
   "cell_type": "code",
   "execution_count": 114,
   "id": "bd5fe7bb",
   "metadata": {},
   "outputs": [
    {
     "data": {
      "text/plain": [
       "[40, 30, 20, 20, 10]"
      ]
     },
     "execution_count": 114,
     "metadata": {},
     "output_type": "execute_result"
    }
   ],
   "source": [
    "sort_desc = lst_4.sort(reverse = True)\n",
    "lst_4"
   ]
  },
  {
   "cell_type": "code",
   "execution_count": 115,
   "id": "0f51cb5b",
   "metadata": {},
   "outputs": [
    {
     "data": {
      "text/plain": [
       "40"
      ]
     },
     "execution_count": 115,
     "metadata": {},
     "output_type": "execute_result"
    }
   ],
   "source": [
    "maximum = max(lst_4)\n",
    "maximum"
   ]
  },
  {
   "cell_type": "code",
   "execution_count": 116,
   "id": "27b1d7d4",
   "metadata": {},
   "outputs": [
    {
     "data": {
      "text/plain": [
       "10"
      ]
     },
     "execution_count": 116,
     "metadata": {},
     "output_type": "execute_result"
    }
   ],
   "source": [
    "minimum = min(lst_4)\n",
    "minimum"
   ]
  },
  {
   "cell_type": "code",
   "execution_count": 117,
   "id": "e19aae35",
   "metadata": {},
   "outputs": [
    {
     "data": {
      "text/plain": [
       "120"
      ]
     },
     "execution_count": 117,
     "metadata": {},
     "output_type": "execute_result"
    }
   ],
   "source": [
    "sum_lst = sum(lst_4)\n",
    "sum_lst"
   ]
  },
  {
   "cell_type": "code",
   "execution_count": 118,
   "id": "cb6ba6b9",
   "metadata": {},
   "outputs": [
    {
     "data": {
      "text/plain": [
       "30"
      ]
     },
     "execution_count": 118,
     "metadata": {},
     "output_type": "execute_result"
    }
   ],
   "source": [
    "lst_4.pop(1)"
   ]
  },
  {
   "cell_type": "code",
   "execution_count": 119,
   "id": "fd2a4a58",
   "metadata": {},
   "outputs": [
    {
     "data": {
      "text/plain": [
       "20"
      ]
     },
     "execution_count": 119,
     "metadata": {},
     "output_type": "execute_result"
    }
   ],
   "source": [
    "lst_4.pop(2)"
   ]
  },
  {
   "cell_type": "code",
   "execution_count": 121,
   "id": "55bb2806",
   "metadata": {},
   "outputs": [
    {
     "data": {
      "text/plain": [
       "20"
      ]
     },
     "execution_count": 121,
     "metadata": {},
     "output_type": "execute_result"
    }
   ],
   "source": [
    "lst_4.pop(1)"
   ]
  },
  {
   "cell_type": "code",
   "execution_count": 127,
   "id": "b692b5a6",
   "metadata": {},
   "outputs": [
    {
     "data": {
      "text/plain": [
       "[40, 10]"
      ]
     },
     "execution_count": 127,
     "metadata": {},
     "output_type": "execute_result"
    }
   ],
   "source": [
    "lst_4"
   ]
  },
  {
   "cell_type": "markdown",
   "id": "5b78d80a",
   "metadata": {},
   "source": [
    "String to List"
   ]
  },
  {
   "cell_type": "code",
   "execution_count": 128,
   "id": "1c6b6705",
   "metadata": {},
   "outputs": [
    {
     "name": "stdout",
     "output_type": "stream",
     "text": [
      "['Inceptez', 'Technologies', 'Pvt', 'Ltd']\n"
     ]
    }
   ],
   "source": [
    "def Convert(string):\n",
    "    li = list(string.split(\" \"))\n",
    "    return li\n",
    " \n",
    "# Driver code   \n",
    "str1 = \"Inceptez Technologies Pvt Ltd\" \n",
    "print(Convert(str1))"
   ]
  },
  {
   "cell_type": "code",
   "execution_count": 129,
   "id": "1ed11663",
   "metadata": {},
   "outputs": [],
   "source": [
    "emplstlst= [[\"1\", (\"Arun\",\"Kumar\"), \"10000\"],[\"2\", (\"Bala\",\"Mohan\"), \"12000\"]]"
   ]
  },
  {
   "cell_type": "code",
   "execution_count": 131,
   "id": "defad1f0",
   "metadata": {},
   "outputs": [
    {
     "data": {
      "text/plain": [
       "(('1', ('Arun', 'Kumar'), '10000'), ('2', ('Bala', 'Mohan'), '12000'))"
      ]
     },
     "execution_count": 131,
     "metadata": {},
     "output_type": "execute_result"
    }
   ],
   "source": [
    "res = tuple(tuple(sub) for sub in emplstlst)   # Tuple of Tuples\n",
    "res"
   ]
  },
  {
   "cell_type": "code",
   "execution_count": 141,
   "id": "76a279ff",
   "metadata": {},
   "outputs": [
    {
     "data": {
      "text/plain": [
       "('1', ('Arun', 'Kumar'), '10000')"
      ]
     },
     "execution_count": 141,
     "metadata": {},
     "output_type": "execute_result"
    }
   ],
   "source": [
    "res[0]"
   ]
  },
  {
   "cell_type": "code",
   "execution_count": 146,
   "id": "645f121b",
   "metadata": {},
   "outputs": [
    {
     "data": {
      "text/plain": [
       "('Bala', 'Mohan')"
      ]
     },
     "execution_count": 146,
     "metadata": {},
     "output_type": "execute_result"
    }
   ],
   "source": [
    "reverse = res[1][1]\n",
    "reverse"
   ]
  },
  {
   "cell_type": "code",
   "execution_count": 147,
   "id": "59b404c5",
   "metadata": {},
   "outputs": [
    {
     "data": {
      "text/plain": [
       "('Mohan', 'Bala')"
      ]
     },
     "execution_count": 147,
     "metadata": {},
     "output_type": "execute_result"
    }
   ],
   "source": [
    "reverse[::-1]       #Reverse first & last names"
   ]
  },
  {
   "cell_type": "code",
   "execution_count": 181,
   "id": "a0ddcaed",
   "metadata": {},
   "outputs": [
    {
     "data": {
      "text/plain": [
       "22000"
      ]
     },
     "execution_count": 181,
     "metadata": {},
     "output_type": "execute_result"
    }
   ],
   "source": [
    "sum([int(i[2]) for i in emplstlst])  # Add all Salaries "
   ]
  },
  {
   "cell_type": "markdown",
   "id": "4b71d552",
   "metadata": {},
   "source": [
    "# Control Statements"
   ]
  },
  {
   "cell_type": "code",
   "execution_count": 186,
   "id": "f4e46dc4",
   "metadata": {},
   "outputs": [],
   "source": [
    "list_num=[5,6,7,8,9,10,11,12,13,14,15,16,17,18,19,20]"
   ]
  },
  {
   "cell_type": "code",
   "execution_count": 195,
   "id": "94150d33",
   "metadata": {},
   "outputs": [
    {
     "data": {
      "text/plain": [
       "[6, 8, 10, 12, 14, 16, 18, 20]"
      ]
     },
     "execution_count": 195,
     "metadata": {},
     "output_type": "execute_result"
    }
   ],
   "source": [
    "even_nos = [num for num in list_num if num % 2 == 0]\n",
    "even_nos"
   ]
  },
  {
   "cell_type": "code",
   "execution_count": 196,
   "id": "e6214309",
   "metadata": {},
   "outputs": [
    {
     "data": {
      "text/plain": [
       "[5, 7, 9, 11, 13, 15, 17, 19]"
      ]
     },
     "execution_count": 196,
     "metadata": {},
     "output_type": "execute_result"
    }
   ],
   "source": [
    "odd_nos = [num for num in list_num if num % 2 == 1]\n",
    "odd_nos"
   ]
  },
  {
   "cell_type": "code",
   "execution_count": 215,
   "id": "a5894315",
   "metadata": {},
   "outputs": [
    {
     "name": "stdout",
     "output_type": "stream",
     "text": [
      "0\n",
      "3\n",
      "6\n",
      "9\n",
      "12\n",
      "15\n",
      "[3, 6, 9, 12, 15, 18]\n"
     ]
    }
   ],
   "source": [
    "lst_store=[]    ## Store inside list\n",
    "\n",
    "x=0\n",
    "\n",
    "while x <=15:\n",
    "    print(x),\n",
    "    x+=3\n",
    "    lst_store.append(x)\n",
    "    \n",
    "print(lst_store)"
   ]
  },
  {
   "cell_type": "markdown",
   "id": "e003d637",
   "metadata": {},
   "source": [
    "### For Loop - Print the Cube of 4"
   ]
  },
  {
   "cell_type": "code",
   "execution_count": 226,
   "id": "103a897d",
   "metadata": {},
   "outputs": [],
   "source": [
    "numbers_to_cube = [4]"
   ]
  },
  {
   "cell_type": "code",
   "execution_count": 230,
   "id": "ffd247bd",
   "metadata": {},
   "outputs": [
    {
     "name": "stdout",
     "output_type": "stream",
     "text": [
      "[64]\n"
     ]
    }
   ],
   "source": [
    "cube = []\n",
    "\n",
    "for number in numbers_to_cube:\n",
    "    \n",
    "    cube.append(number**3)\n",
    "\n",
    "print(cube) "
   ]
  },
  {
   "cell_type": "code",
   "execution_count": 251,
   "id": "422596eb",
   "metadata": {},
   "outputs": [
    {
     "name": "stdout",
     "output_type": "stream",
     "text": [
      "10\n",
      "Inceptez Technologies\n",
      "Inceptez Technologies\n",
      "Inceptez Technologies\n",
      "Inceptez Technologies\n",
      "Inceptez Technologies\n",
      "Inceptez Technologies\n",
      "Inceptez Technologies\n",
      "Inceptez Technologies\n",
      "Inceptez Technologies\n",
      "Inceptez Technologies\n"
     ]
    }
   ],
   "source": [
    "n = int(input())     # While Loop - Print n number of times\n",
    "\n",
    "i = 1\n",
    "while i <= n:\n",
    "    print(\"Inceptez Technologies\")\n",
    "    i = i + 1"
   ]
  },
  {
   "cell_type": "markdown",
   "id": "64998420",
   "metadata": {},
   "source": [
    "# Salary + Bonus"
   ]
  },
  {
   "cell_type": "code",
   "execution_count": 265,
   "id": "becc285e",
   "metadata": {},
   "outputs": [],
   "source": [
    "sal_lst = [10000,20000,30000,10000,15000]"
   ]
  },
  {
   "cell_type": "code",
   "execution_count": 268,
   "id": "9fd4b45a",
   "metadata": {},
   "outputs": [],
   "source": [
    "sal_bonus_lst = ([int(h)+1000 for h in sal_lst])"
   ]
  },
  {
   "cell_type": "code",
   "execution_count": 269,
   "id": "c86d666a",
   "metadata": {},
   "outputs": [
    {
     "data": {
      "text/plain": [
       "[11000, 21000, 31000, 11000, 16000]"
      ]
     },
     "execution_count": 269,
     "metadata": {},
     "output_type": "execute_result"
    }
   ],
   "source": [
    "sal_bonus_lst"
   ]
  },
  {
   "cell_type": "code",
   "execution_count": 274,
   "id": "5b5020c8",
   "metadata": {},
   "outputs": [
    {
     "name": "stdout",
     "output_type": "stream",
     "text": [
      "[21000, 31000, 16000]\n"
     ]
    }
   ],
   "source": [
    "filtered_salary = []      # Filter greater than 11000 salary\n",
    "\n",
    "for salary in sal_bonus_lst:\n",
    "    if salary >11000:\n",
    "        filtered_salary.append(salary)\n",
    "\n",
    "print(filtered_salary)"
   ]
  },
  {
   "cell_type": "markdown",
   "id": "715d3dea",
   "metadata": {},
   "source": [
    "# Loop for 3 Tables till 10"
   ]
  },
  {
   "cell_type": "code",
   "execution_count": 282,
   "id": "732871ac",
   "metadata": {},
   "outputs": [
    {
     "name": "stdout",
     "output_type": "stream",
     "text": [
      "1 x 3 = 3\n",
      "2 x 3 = 6\n",
      "3 x 3 = 9\n",
      "4 x 3 = 12\n",
      "5 x 3 = 15\n",
      "6 x 3 = 18\n",
      "7 x 3 = 21\n",
      "8 x 3 = 24\n",
      "9 x 3 = 27\n",
      "10 x 3 = 30\n"
     ]
    }
   ],
   "source": [
    "multiply_table = 3\n",
    "\n",
    "for i in range(1,11):\n",
    "    print(i, 'x', multiply_table, '=', multiply_table * i)\n",
    "    "
   ]
  },
  {
   "cell_type": "code",
   "execution_count": 321,
   "id": "fd5aed4f",
   "metadata": {},
   "outputs": [],
   "source": [
    "lst1 = [[10,20],[30,40,50],[60,70,80]]"
   ]
  },
  {
   "cell_type": "code",
   "execution_count": 322,
   "id": "5748b5d2",
   "metadata": {},
   "outputs": [],
   "source": [
    "import numpy as np"
   ]
  },
  {
   "cell_type": "code",
   "execution_count": 323,
   "id": "e87f35f6",
   "metadata": {},
   "outputs": [
    {
     "name": "stderr",
     "output_type": "stream",
     "text": [
      "<ipython-input-323-b393ee473919>:1: VisibleDeprecationWarning: Creating an ndarray from ragged nested sequences (which is a list-or-tuple of lists-or-tuples-or ndarrays with different lengths or shapes) is deprecated. If you meant to do this, you must specify 'dtype=object' when creating the ndarray\n",
      "  lst2 = np.array(lst1)\n"
     ]
    }
   ],
   "source": [
    "lst2 = np.array(lst1)"
   ]
  },
  {
   "cell_type": "code",
   "execution_count": 324,
   "id": "345b6915",
   "metadata": {},
   "outputs": [
    {
     "data": {
      "text/plain": [
       "'[list([10, 20]) list([30, 40, 50]) list([60, 70, 80])]'"
      ]
     },
     "execution_count": 324,
     "metadata": {},
     "output_type": "execute_result"
    }
   ],
   "source": [
    "str(lst2)"
   ]
  },
  {
   "cell_type": "code",
   "execution_count": 325,
   "id": "8a8f73fd",
   "metadata": {},
   "outputs": [],
   "source": [
    "total = np.sum(lst2, 0)"
   ]
  },
  {
   "cell_type": "code",
   "execution_count": 326,
   "id": "718e3fbc",
   "metadata": {},
   "outputs": [
    {
     "data": {
      "text/plain": [
       "[10, 20, 30, 40, 50, 60, 70, 80]"
      ]
     },
     "execution_count": 326,
     "metadata": {},
     "output_type": "execute_result"
    }
   ],
   "source": [
    "total"
   ]
  },
  {
   "cell_type": "code",
   "execution_count": 327,
   "id": "0c4bc578",
   "metadata": {},
   "outputs": [
    {
     "data": {
      "text/plain": [
       "360"
      ]
     },
     "execution_count": 327,
     "metadata": {},
     "output_type": "execute_result"
    }
   ],
   "source": [
    "np.sum(total)"
   ]
  },
  {
   "cell_type": "code",
   "execution_count": 328,
   "id": "7b260cfb",
   "metadata": {},
   "outputs": [
    {
     "data": {
      "text/plain": [
       "10"
      ]
     },
     "execution_count": 328,
     "metadata": {},
     "output_type": "execute_result"
    }
   ],
   "source": [
    "np.min(total)"
   ]
  },
  {
   "cell_type": "code",
   "execution_count": 329,
   "id": "e1563495",
   "metadata": {},
   "outputs": [
    {
     "data": {
      "text/plain": [
       "80"
      ]
     },
     "execution_count": 329,
     "metadata": {},
     "output_type": "execute_result"
    }
   ],
   "source": [
    "np.max(total)"
   ]
  },
  {
   "cell_type": "markdown",
   "id": "f9790a0b",
   "metadata": {},
   "source": [
    "# Functions"
   ]
  },
  {
   "cell_type": "code",
   "execution_count": 392,
   "id": "6a030e5d",
   "metadata": {},
   "outputs": [
    {
     "name": "stdout",
     "output_type": "stream",
     "text": [
      "Maximum Number is ::> 1000\n"
     ]
    }
   ],
   "source": [
    "def maximum(a, b, c):\n",
    "    list = [a, b, c] \n",
    "    return max(list) \n",
    "    x = int(input(\"Enter First number\"))\n",
    "    y = int(input(\"Enter Second number\"))\n",
    "    z = int(input(\"Enter Third number\"))\n",
    "    \n",
    "print(\"Maximum Number is ::>\",maximum(x, y, z))"
   ]
  },
  {
   "cell_type": "code",
   "execution_count": 358,
   "id": "caacebe8",
   "metadata": {},
   "outputs": [
    {
     "name": "stdout",
     "output_type": "stream",
     "text": [
      "Enter the string: madam\n",
      "madam is a Palindrome\n"
     ]
    }
   ],
   "source": [
    "def isPalindrome(s):  #user-defined function\n",
    "    return s == s[::-1]\n",
    "\n",
    "# take inputs\n",
    "\n",
    "string = input('Enter the string: ')\n",
    "\n",
    "# calling function and display result\n",
    "\n",
    "reverse = isPalindrome(string)\n",
    "if reverse:\n",
    "    print(string,'is a Palindrome')\n",
    "else:\n",
    "    print(string,'is not a Palindrome')"
   ]
  },
  {
   "cell_type": "code",
   "execution_count": 365,
   "id": "4986b4d2",
   "metadata": {},
   "outputs": [
    {
     "name": "stdout",
     "output_type": "stream",
     "text": [
      "False\n"
     ]
    }
   ],
   "source": [
    "input = \"trend\"   # Check input is String or Number\n",
    " \n",
    "contains_digit = any(map(str.isdigit, input))\n",
    "print(contains_digit)"
   ]
  },
  {
   "cell_type": "code",
   "execution_count": 369,
   "id": "4b53da15",
   "metadata": {},
   "outputs": [
    {
     "name": "stdout",
     "output_type": "stream",
     "text": [
      "True\n"
     ]
    }
   ],
   "source": [
    "input = \"TREND\"   # Check input is String or Number\n",
    " \n",
    "contains_digit = any(map(str.isupper, input))\n",
    "print(contains_digit)"
   ]
  },
  {
   "cell_type": "code",
   "execution_count": 367,
   "id": "6ddae435",
   "metadata": {},
   "outputs": [
    {
     "name": "stdout",
     "output_type": "stream",
     "text": [
      "False\n"
     ]
    }
   ],
   "source": [
    "input = \"100\"\n",
    " \n",
    "contains_digit = any(map(str.isupper, input))\n",
    "print(contains_digit)"
   ]
  },
  {
   "cell_type": "code",
   "execution_count": 368,
   "id": "93ae1fc9",
   "metadata": {},
   "outputs": [
    {
     "name": "stdout",
     "output_type": "stream",
     "text": [
      "True\n"
     ]
    }
   ],
   "source": [
    "input = \"100\"\n",
    " \n",
    "contains_digit = any(map(str.isdigit, input))\n",
    "print(contains_digit)"
   ]
  },
  {
   "cell_type": "code",
   "execution_count": 370,
   "id": "8cd53e48",
   "metadata": {},
   "outputs": [
    {
     "data": {
      "text/plain": [
       "[2, 4, 6, 8, 10]"
      ]
     },
     "execution_count": 370,
     "metadata": {},
     "output_type": "execute_result"
    }
   ],
   "source": [
    "[x for x in range(1,11) if x%2==0] # even no"
   ]
  },
  {
   "cell_type": "code",
   "execution_count": 371,
   "id": "105c0fa5",
   "metadata": {},
   "outputs": [
    {
     "data": {
      "text/plain": [
       "[1, 3, 5, 7, 9]"
      ]
     },
     "execution_count": 371,
     "metadata": {},
     "output_type": "execute_result"
    }
   ],
   "source": [
    "[x for x in range(1,11) if x%2==1] # odd no"
   ]
  },
  {
   "cell_type": "code",
   "execution_count": 373,
   "id": "583eb15f",
   "metadata": {},
   "outputs": [
    {
     "data": {
      "text/plain": [
       "[-10, -9, -8, -7, -6, -5, -4, -3, -2, -1]"
      ]
     },
     "execution_count": 373,
     "metadata": {},
     "output_type": "execute_result"
    }
   ],
   "source": [
    "[x for x in range(-10,11) if x < 0] # negative no"
   ]
  },
  {
   "cell_type": "markdown",
   "id": "f6efa26a",
   "metadata": {},
   "source": [
    "# Positional Arguement"
   ]
  },
  {
   "cell_type": "code",
   "execution_count": 393,
   "id": "f310ff6d",
   "metadata": {},
   "outputs": [
    {
     "name": "stdout",
     "output_type": "stream",
     "text": [
      "1455\n"
     ]
    }
   ],
   "source": [
    "def largest(*numbers):\n",
    "    return max(numbers)\n",
    "\n",
    "print(largest(20,50,1455))"
   ]
  },
  {
   "cell_type": "code",
   "execution_count": null,
   "id": "7723e44e",
   "metadata": {},
   "outputs": [],
   "source": []
  },
  {
   "cell_type": "code",
   "execution_count": null,
   "id": "b780509d",
   "metadata": {},
   "outputs": [],
   "source": []
  },
  {
   "cell_type": "code",
   "execution_count": null,
   "id": "1f40eeb8",
   "metadata": {},
   "outputs": [],
   "source": []
  },
  {
   "cell_type": "code",
   "execution_count": null,
   "id": "d6ecb2c9",
   "metadata": {},
   "outputs": [],
   "source": []
  },
  {
   "cell_type": "code",
   "execution_count": null,
   "id": "323362cc",
   "metadata": {},
   "outputs": [],
   "source": []
  }
 ],
 "metadata": {
  "kernelspec": {
   "display_name": "Python 3",
   "language": "python",
   "name": "python3"
  },
  "language_info": {
   "codemirror_mode": {
    "name": "ipython",
    "version": 3
   },
   "file_extension": ".py",
   "mimetype": "text/x-python",
   "name": "python",
   "nbconvert_exporter": "python",
   "pygments_lexer": "ipython3",
   "version": "3.8.8"
  }
 },
 "nbformat": 4,
 "nbformat_minor": 5
}
