{
 "cells": [
  {
   "cell_type": "markdown",
   "id": "3d8dcb5a",
   "metadata": {},
   "source": [
    "# Functions \n",
    "\n",
    "#### 37th Question"
   ]
  },
  {
   "cell_type": "code",
   "execution_count": 50,
   "id": "bfd51803",
   "metadata": {},
   "outputs": [],
   "source": [
    "def method(input_str):\n",
    "    capitalize= \" \".join(word[0].upper()+word[1:] for word in input_string.split(\" \"))\n",
    "    uppercase=input_str.upper()\n",
    "    length=len(input_str)\n",
    "    str_list=input_str.split()\n",
    "    number_of_words=len(str_list)\n",
    "    boolean=input_str.endswith('s')\n",
    "    replace_string=input_str.replace('e','a')\n",
    "    final_result=(capitalize,uppercase,length,number_of_words,boolean,replace_string)\n",
    "    return final_result"
   ]
  },
  {
   "cell_type": "code",
   "execution_count": 51,
   "id": "bb3a4e64",
   "metadata": {},
   "outputs": [
    {
     "name": "stdout",
     "output_type": "stream",
     "text": [
      "Input is: inceptez technologies\n",
      "Final Result is: ('Inceptez Technologies', 'INCEPTEZ TECHNOLOGIES', 21, 2, True, 'incaptaz tachnologias')\n"
     ]
    }
   ],
   "source": [
    "input_1='inceptez technologies'\n",
    "final = method(input_1)\n",
    "print(\"Input is: {}\".format(input_1))\n",
    "print(\"Final Result is: {}\".format(final))"
   ]
  },
  {
   "cell_type": "markdown",
   "id": "605ba354",
   "metadata": {},
   "source": [
    "#### 38th Question"
   ]
  },
  {
   "cell_type": "code",
   "execution_count": 1,
   "id": "f20d64f4",
   "metadata": {},
   "outputs": [],
   "source": [
    "def promo(amount, offer_percent, offer_cap_limit):\n",
    "    if (amount*offer_percent<offer_cap_limit):\n",
    "        return amount-(amount*offer_percent)\n",
    "    else:\n",
    "        return amount-offer_cap_limit"
   ]
  },
  {
   "cell_type": "code",
   "execution_count": 2,
   "id": "98b2edfc",
   "metadata": {},
   "outputs": [
    {
     "name": "stdout",
     "output_type": "stream",
     "text": [
      "800\n"
     ]
    }
   ],
   "source": [
    "print(promo(1000,10,200))"
   ]
  },
  {
   "cell_type": "markdown",
   "id": "c7aa6025",
   "metadata": {},
   "source": [
    "### Default Function"
   ]
  },
  {
   "cell_type": "code",
   "execution_count": 3,
   "id": "d4f1a68a",
   "metadata": {},
   "outputs": [
    {
     "data": {
      "text/plain": [
       "-9000"
      ]
     },
     "execution_count": 3,
     "metadata": {},
     "output_type": "execute_result"
    }
   ],
   "source": [
    "generate_mail_lambda_default=lambda amount,offer_percent :amount-(amount*offer_percent)\n",
    "generate_mail_lambda_default(amount=1000,offer_percent=10) "
   ]
  },
  {
   "cell_type": "markdown",
   "id": "57b15bc7",
   "metadata": {},
   "source": [
    "### Arbitrary Function"
   ]
  },
  {
   "cell_type": "code",
   "execution_count": 4,
   "id": "c860e46f",
   "metadata": {},
   "outputs": [
    {
     "data": {
      "text/plain": [
       "1210"
      ]
     },
     "execution_count": 4,
     "metadata": {},
     "output_type": "execute_result"
    }
   ],
   "source": [
    "generate_mail_lambda_default_arbit=lambda *args:args[0]+args[1]+args[2]\n",
    "generate_mail_lambda_default_arbit(1000,10,200)                   "
   ]
  },
  {
   "cell_type": "markdown",
   "id": "8d8b054e",
   "metadata": {},
   "source": [
    "### Keyword Arbritrary "
   ]
  },
  {
   "cell_type": "code",
   "execution_count": 5,
   "id": "4466aeec",
   "metadata": {},
   "outputs": [
    {
     "data": {
      "text/plain": [
       "310"
      ]
     },
     "execution_count": 5,
     "metadata": {},
     "output_type": "execute_result"
    }
   ],
   "source": [
    "generate_mail_lambda_default_arbit_kw=lambda **kwargs:kwargs['offer_percent']+kwargs['offer_cap_limit']+kwargs['amount']\n",
    "generate_mail_lambda_default_arbit_kw(offer_percent=10,offer_cap_limit=200,amount=100)#arbitrary Keyword Arguments"
   ]
  },
  {
   "cell_type": "markdown",
   "id": "f390b519",
   "metadata": {},
   "source": [
    "# 39 Higher Order Function"
   ]
  },
  {
   "cell_type": "code",
   "execution_count": 9,
   "id": "910c7be4",
   "metadata": {},
   "outputs": [],
   "source": [
    "lam = lambda amount,offer_percent:amount-(amount*offer_percent)"
   ]
  },
  {
   "cell_type": "code",
   "execution_count": 10,
   "id": "64bd0121",
   "metadata": {},
   "outputs": [],
   "source": [
    "def promo(amount, offer_percent, offer_cap_limit,lam):\n",
    "    if (amount*offer_percent<offer_cap_limit):\n",
    "        return amount-(amount*offer_percent)\n",
    "    else:\n",
    "        return amount-offer_cap_limit"
   ]
  },
  {
   "cell_type": "code",
   "execution_count": 11,
   "id": "770216b4",
   "metadata": {},
   "outputs": [
    {
     "name": "stdout",
     "output_type": "stream",
     "text": [
      "800\n"
     ]
    }
   ],
   "source": [
    "print(promo(1000,10,200,lam))"
   ]
  },
  {
   "cell_type": "code",
   "execution_count": null,
   "id": "a80b247c",
   "metadata": {},
   "outputs": [],
   "source": []
  },
  {
   "cell_type": "code",
   "execution_count": null,
   "id": "18c74582",
   "metadata": {},
   "outputs": [],
   "source": []
  }
 ],
 "metadata": {
  "kernelspec": {
   "display_name": "Python 3",
   "language": "python",
   "name": "python3"
  },
  "language_info": {
   "codemirror_mode": {
    "name": "ipython",
    "version": 3
   },
   "file_extension": ".py",
   "mimetype": "text/x-python",
   "name": "python",
   "nbconvert_exporter": "python",
   "pygments_lexer": "ipython3",
   "version": "3.8.8"
  }
 },
 "nbformat": 4,
 "nbformat_minor": 5
}
